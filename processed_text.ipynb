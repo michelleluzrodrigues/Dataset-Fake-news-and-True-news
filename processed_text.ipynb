{
 "cells": [
  {
   "cell_type": "markdown",
   "metadata": {},
   "source": [
    "# Imports Necessarios"
   ]
  },
  {
   "cell_type": "code",
   "execution_count": 1,
   "metadata": {},
   "outputs": [],
   "source": [
    "import os\n",
    "import pandas as pd\n",
    "import spacy\n",
    "import re\n"
   ]
  },
  {
   "cell_type": "markdown",
   "metadata": {},
   "source": [
    "# Carregar o Modelo spaCy"
   ]
  },
  {
   "cell_type": "code",
   "execution_count": 2,
   "metadata": {},
   "outputs": [],
   "source": [
    "# Carregar o modelo spaCy em português ou o idioma correspondente\n",
    "nlp = spacy.load(\"pt_core_news_sm\")\n"
   ]
  },
  {
   "cell_type": "markdown",
   "metadata": {},
   "source": [
    "# Carregar os Dados"
   ]
  },
  {
   "cell_type": "code",
   "execution_count": 3,
   "metadata": {},
   "outputs": [],
   "source": [
    "fake_unprocessed = pd.read_csv(\"unprocessed/fake/fake.csv\", sep=';')\n",
    "true_unprocessed = pd.read_csv(\"unprocessed/true/true.csv\", sep=';')\n",
    "\n"
   ]
  },
  {
   "cell_type": "markdown",
   "metadata": {},
   "source": [
    "#  Função de Pré-Processamento para Lematização, Remoção de Stopwords e Pontuação"
   ]
  },
  {
   "cell_type": "code",
   "execution_count": 4,
   "metadata": {},
   "outputs": [],
   "source": [
    "# Função para pré-processamento de texto (lematização, remoção de stopwords e pontuação)\n",
    "def preprocessamento(texto):\n",
    "    doc = nlp(texto)\n",
    "    tokens_filtrados = [token.lemma_ for token in doc if not token.is_stop and not token.is_punct]\n",
    "    texto_processado = \" \".join(tokens_filtrados)\n",
    "    return texto_processado.lower()  # Converte para minúsculas\n"
   ]
  },
  {
   "cell_type": "markdown",
   "metadata": {},
   "source": [
    "# Função para Remover URLs, Menções e Dígitos"
   ]
  },
  {
   "cell_type": "code",
   "execution_count": 16,
   "metadata": {},
   "outputs": [],
   "source": [
    "def remover_urls_mencoes_digitos_e_palavras_soltas(texto):\n",
    "    # Remover URLs\n",
    "    texto = re.sub(r\"http\\S+|www\\S+|https\\S+\", \"\", texto)\n",
    "    # Remover menções (@usuário)\n",
    "    texto = re.sub(r\"@\\w+\", \"\", texto)\n",
    "    # Remover dígitos\n",
    "    texto = re.sub(r\"\\d+\", \"\", texto)\n",
    "    # Remover aspas e caracteres indesejados\n",
    "    texto = re.sub(r'[“”‘’\\'\\\"<>]', '', texto)\n",
    "    # Remover caracteres especiais\n",
    "    texto = re.sub(r'[^a-zA-Z0-9\\s]', '', texto)\n",
    "    # Remover palavras de uma letra (e.g., \"a\", \"b\", exceto \"e\" ou outros permitidos)\n",
    "    texto = re.sub(r'\\b[a-zA-Z]\\b', '', texto)\n",
    "    # Remover múltiplos espaços consecutivos\n",
    "    texto = re.sub(r'\\s+', ' ', texto)\n",
    "    # Remover palavras de até 2 letras que são irrelevantes\n",
    "    texto = re.sub(r'\\b\\w{1,2}\\b', '', texto)\n",
    "    return texto.strip()  # Remover espaços extras no início e no fim\n"
   ]
  },
  {
   "cell_type": "markdown",
   "metadata": {},
   "source": [
    "# Aplicar Pré-Processamento aos Dados"
   ]
  },
  {
   "cell_type": "code",
   "execution_count": null,
   "metadata": {},
   "outputs": [
    {
     "ename": "NameError",
     "evalue": "name 'remover_urls_mencoes_digitos_e_palavras_soltas_digitos' is not defined",
     "output_type": "error",
     "traceback": [
      "\u001b[1;31m---------------------------------------------------------------------------\u001b[0m",
      "\u001b[1;31mNameError\u001b[0m                                 Traceback (most recent call last)",
      "Cell \u001b[1;32mIn[17], line 2\u001b[0m\n\u001b[0;32m      1\u001b[0m \u001b[38;5;66;03m# Pré-processamento para dados fake\u001b[39;00m\n\u001b[1;32m----> 2\u001b[0m fake_unprocessed[\u001b[38;5;124m'\u001b[39m\u001b[38;5;124mtexto_processado\u001b[39m\u001b[38;5;124m'\u001b[39m] \u001b[38;5;241m=\u001b[39m fake_unprocessed[\u001b[38;5;124m'\u001b[39m\u001b[38;5;124mTexto\u001b[39m\u001b[38;5;124m'\u001b[39m]\u001b[38;5;241m.\u001b[39mapply(\u001b[43mremover_urls_mencoes_digitos_e_palavras_soltas_digitos\u001b[49m)\u001b[38;5;241m.\u001b[39mapply(preprocessamento)\n\u001b[0;32m      4\u001b[0m \u001b[38;5;66;03m# Pré-processamento para dados true\u001b[39;00m\n\u001b[0;32m      5\u001b[0m true_unprocessed[\u001b[38;5;124m'\u001b[39m\u001b[38;5;124mtexto_processado\u001b[39m\u001b[38;5;124m'\u001b[39m] \u001b[38;5;241m=\u001b[39m true_unprocessed[\u001b[38;5;124m'\u001b[39m\u001b[38;5;124mTexto\u001b[39m\u001b[38;5;124m'\u001b[39m]\u001b[38;5;241m.\u001b[39mapply(remover_urls_mencoes_digitos_e_palavras_soltas)\u001b[38;5;241m.\u001b[39mapply(preprocessamento)\n",
      "\u001b[1;31mNameError\u001b[0m: name 'remover_urls_mencoes_digitos_e_palavras_soltas_digitos' is not defined"
     ]
    }
   ],
   "source": [
    "# Pré-processamento para dados fake\n",
    "fake_unprocessed['texto_processado'] = fake_unprocessed['Texto'].apply(remover_urls_mencoes_digitos_e_palavras_soltas).apply(preprocessamento)\n",
    "\n",
    "# Pré-processamento para dados true\n",
    "true_unprocessed['texto_processado'] = true_unprocessed['Texto'].apply(remover_urls_mencoes_digitos_e_palavras_soltas).apply(preprocessamento)\n"
   ]
  },
  {
   "cell_type": "markdown",
   "metadata": {},
   "source": [
    "# Salvar os Dados Pré-Processados"
   ]
  },
  {
   "cell_type": "code",
   "execution_count": 12,
   "metadata": {},
   "outputs": [
    {
     "name": "stdout",
     "output_type": "stream",
     "text": [
      "Arquivos processados e salvos com sucesso!\n"
     ]
    }
   ],
   "source": [
    "\n",
    "# Salvar os dados processados em arquivos CSV separados\n",
    "fake_unprocessed[['texto_processado']].to_csv(\"preprocessed/fake/fake.csv\", index=False)\n",
    "true_unprocessed[['texto_processado']].to_csv(\"preprocessed/true/true.csv\", index=False)\n",
    "\n",
    "print(\"Arquivos processados e salvos com sucesso!\")\n"
   ]
  }
 ],
 "metadata": {
  "kernelspec": {
   "display_name": "Python 3",
   "language": "python",
   "name": "python3"
  },
  "language_info": {
   "codemirror_mode": {
    "name": "ipython",
    "version": 3
   },
   "file_extension": ".py",
   "mimetype": "text/x-python",
   "name": "python",
   "nbconvert_exporter": "python",
   "pygments_lexer": "ipython3",
   "version": "3.12.4"
  }
 },
 "nbformat": 4,
 "nbformat_minor": 2
}
