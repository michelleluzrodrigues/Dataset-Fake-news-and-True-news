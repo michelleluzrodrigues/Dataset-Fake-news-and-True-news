{
 "cells": [
  {
   "cell_type": "markdown",
   "metadata": {},
   "source": [
    "# Imports Necessarios"
   ]
  },
  {
   "cell_type": "code",
   "execution_count": null,
   "metadata": {},
   "outputs": [],
   "source": [
    "import os\n",
    "import pandas as pd\n",
    "import spacy\n",
    "import re\n",
    "import os\n"
   ]
  },
  {
   "cell_type": "markdown",
   "metadata": {},
   "source": [
    "# Carregar o Modelo spaCy"
   ]
  },
  {
   "cell_type": "code",
   "execution_count": null,
   "metadata": {},
   "outputs": [],
   "source": [
    "# Carregar o modelo spaCy em português ou o idioma correspondente\n",
    "nlp = spacy.load(\"pt_core_news_sm\")\n"
   ]
  },
  {
   "cell_type": "markdown",
   "metadata": {},
   "source": [
    "# Carregar os Dados"
   ]
  },
  {
   "cell_type": "code",
   "execution_count": null,
   "metadata": {},
   "outputs": [],
   "source": [
    "fake_unprocessed = pd.read_csv(\"unprocessed/fake/fake.csv\", sep=';')\n",
    "true_unprocessed = pd.read_csv(\"unprocessed/true/true.csv\", sep=';')\n",
    "\n"
   ]
  },
  {
   "cell_type": "markdown",
   "metadata": {},
   "source": [
    "#  Função de Pré-Processamento para Lematização, Remoção de Stopwords e Pontuação"
   ]
  },
  {
   "cell_type": "code",
   "execution_count": null,
   "metadata": {},
   "outputs": [],
   "source": [
    "# Função para pré-processamento de texto (lematização, remoção de stopwords e pontuação)\n",
    "def preprocessamento(texto):\n",
    "    doc = nlp(texto)\n",
    "    tokens_filtrados = [token.lemma_ for token in doc if not token.is_stop and not token.is_punct]\n",
    "    texto_processado = \" \".join(tokens_filtrados)\n",
    "    return texto_processado.lower()  # Converte para minúsculas\n"
   ]
  },
  {
   "cell_type": "markdown",
   "metadata": {},
   "source": [
    "# Função para Remover URLs, Menções e Dígitos"
   ]
  },
  {
   "cell_type": "code",
   "execution_count": null,
   "metadata": {},
   "outputs": [],
   "source": [
    "# Função para remover URLs, menções, dígitos e aspas\n",
    "def remover_urls_mencoes_digitos(texto):\n",
    "    texto = re.sub(r\"http\\S+|www\\S+|https\\S+\", \"\", texto)  # Remover URLs\n",
    "    texto = re.sub(r\"@\\w+\", \"\", texto)                     # Remover menções\n",
    "    texto = re.sub(r\"\\d+\", \"\", texto)                      # Remover dígitos\n",
    "    texto = texto.strip('\"')  # Remover aspas duplas no início e no fim\n",
    "    return texto.strip()  # Remover espaços extras\n"
   ]
  },
  {
   "cell_type": "markdown",
   "metadata": {},
   "source": [
    "# Aplicar Pré-Processamento aos Dados"
   ]
  },
  {
   "cell_type": "code",
   "execution_count": null,
   "metadata": {},
   "outputs": [],
   "source": [
    "# Pré-processamento para dados fake\n",
    "fake_unprocessed['texto_processado'] = fake_unprocessed['texto'].apply(remover_urls_mencoes_digitos).apply(preprocessamento)\n",
    "\n",
    "# Pré-processamento para dados true\n",
    "true_unprocessed['texto_processado'] = true_unprocessed['texto'].apply(remover_urls_mencoes_digitos).apply(preprocessamento)\n"
   ]
  },
  {
   "cell_type": "markdown",
   "metadata": {},
   "source": [
    "# Salvar os Dados Pré-Processados"
   ]
  },
  {
   "cell_type": "code",
   "execution_count": null,
   "metadata": {},
   "outputs": [
    {
     "name": "stdout",
     "output_type": "stream",
     "text": [
      "Arquivos processados e salvos com sucesso!\n"
     ]
    }
   ],
   "source": [
    "\n",
    "# Salvar os dados processados em arquivos CSV separados\n",
    "fake_unprocessed[['texto_processado']].to_csv(\"preprocessed/fake/fake.csv\", index=False)\n",
    "true_unprocessed[['texto_processado']].to_csv(\"preprocessed/true/true.csv\", index=False)\n",
    "\n",
    "print(\"Arquivos processados e salvos com sucesso!\")\n"
   ]
  }
 ],
 "metadata": {
  "kernelspec": {
   "display_name": "Python 3",
   "language": "python",
   "name": "python3"
  },
  "language_info": {
   "codemirror_mode": {
    "name": "ipython",
    "version": 3
   },
   "file_extension": ".py",
   "mimetype": "text/x-python",
   "name": "python",
   "nbconvert_exporter": "python",
   "pygments_lexer": "ipython3",
   "version": "3.12.4"
  }
 },
 "nbformat": 4,
 "nbformat_minor": 2
}
